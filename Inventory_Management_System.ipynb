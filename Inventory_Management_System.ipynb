{
  "nbformat": 4,
  "nbformat_minor": 0,
  "metadata": {
    "colab": {
      "name": "Inventory Management System.ipynb",
      "provenance": []
    },
    "kernelspec": {
      "name": "python3",
      "display_name": "Python 3"
    },
    "language_info": {
      "name": "python"
    }
  },
  "cells": [
    {
      "cell_type": "markdown",
      "metadata": {
        "id": "1bgXX47uquTr"
      },
      "source": [
        "**Inventory Management System**"
      ]
    },
    {
      "cell_type": "code",
      "metadata": {
        "id": "RrqoEECMHRpe",
        "colab": {
          "base_uri": "https://localhost:8080/"
        },
        "outputId": "f346446c-3c6e-44e9-a04b-193b1dec9c8b"
      },
      "source": [
        "from google.colab import drive\n",
        "drive.mount('/content/drive')"
      ],
      "execution_count": null,
      "outputs": [
        {
          "output_type": "stream",
          "name": "stdout",
          "text": [
            "Mounted at /content/drive\n"
          ]
        }
      ]
    },
    {
      "cell_type": "code",
      "metadata": {
        "id": "3gfwt4n-6QcU"
      },
      "source": [
        "items = {'1':{'Name':'Lays','Price':10, 'Quantity' : 100, 'ManufactureDate':'08Sep2021', 'Product Type':'Groceries'},\n",
        "         '2':{'Name':'DairyMilk','Price':55, 'Quantity' : 250, 'ManufactureDate':'13Sep2021', 'Product Type':'Groceries'},\n",
        "         '3':{'Name':'Milk','Price':30, 'Quantity' : 500, 'ManufactureDate':'02Oct2021', 'Product Type':'Groceries'},\n",
        "         '4':{'Name':'Eggs','Price': 150 , 'Quantity' : 1500, 'ManufactureDate':'10Aug2021', 'Product Type':'Groceries'},\n",
        "         '5':{'Name':'Tin Corn','Price':90, 'Quantity' : 100, 'ManufactureDate':'05Sep2021','Product Type':'Groceries'},\n",
        "         '6':{'Name':'Mouse','Price':350, 'Quantity' : 35, 'ManufactureDate':'08Aug2021' , 'Product Type':'Electronics'},\n",
        "         '7':{'Name':'Britannia Cake','Price':20, 'Quantity' : 400, 'ManufactureDate':'18Oct2021', 'Product Type':'Groceries'},\n",
        "         '8':{'Name':'Green Peas','Price':180, 'Quantity' : 80, 'ManufactureDate':'29Sep2021', 'Product Type':'Groceries'},\n",
        "         '9':{'Name':'Keyboard','Price':300, 'Quantity' : 40, 'ManufactureDate':'12Aug2021', 'Product Type':'Electronics'},\n",
        "         '10':{'Name':'Jeans Male','Price':599, 'Quantity' : 20, 'ManufactureDate':'19Aug2021', 'Product Type':'Garments'},\n",
        "         '11':{'Name':'Jeans Female','Price':499, 'Quantity' : 20, 'ManufactureDate':'23Sep2021', 'Product Type':'Garments'},\n",
        "         '12':{'Name':'Badminton','Price':1249, 'Quantity' : 15, 'ManufactureDate':'17Sep2021', 'Product Type':'Sports'},\n",
        "         '13':{'Name':'Tennis Ball','Price':99, 'Quantity' : 60, 'ManufactureDate':'07Oct2021', 'Product Type':'Sports'},\n",
        "         '14':{'Name':'Butter','Price':48, 'Quantity' : 250, 'ManufactureDate':'11Oct2021', 'Product Type':'Groceries'},\n",
        "         '15':{'Name':'Watch','Price':9000, 'Quantity' : 50, 'ManufactureDate':'15July2021', 'Product Type':'Electronics'},\n",
        "         '16':{'Name':'Clock','Price':250, 'Quantity' : 50, 'ManufactureDate':'19July2021', 'Product Type':'Electronics'},\n",
        "         '17':{'Name':'Cream Biscuits','Price':45, 'Quantity' : 300, 'ManufactureDate':'14Sep2021', 'Product Type':'Groceries'},\n",
        "         '18':{'Name':'Bed Sheets','Price':900, 'Quantity' : 150, 'ManufactureDate':'27Sep2021', 'Product Type':'Home Accessories'},\n",
        "         '17':{'Name':'Curtains','Price': 300, 'Quantity' : 150, 'ManufactureDate':'22June2021', 'Product Type':'Home Accessories'},\n",
        "         '18':{'Name':'Socks','Price':60, 'Quantity' : 450, 'ManufactureDate':'03June2021', 'Product Type':'Garments'},\n",
        "         '19':{'Name':'Cricket Bat','Price': 1800, 'Quantity' : 40, 'ManufactureDate':'20May2021','Product Type':'Sports'},\n",
        "         '20':{'Name':'Monopoly Board Game','Price': 349, 'Quantity' : 50, 'ManufactureDate':'24May2021', 'Product Type':'Sports'}, \n",
        "         '21':{'Name':'Samsung Earphones','Price':500, 'Quantity' : 70, 'ManufactureDate':'08June2021', 'Product Type':'Electronics'},\n",
        "         '22':{'Name':'Airpods', 'Price': 55, 'Quantity' : 2500, 'ManufactureDate':'06Sep2021', 'Product Type':'Electronics'},\n",
        "         '23':{'Name':'Trousers','Price':320, 'Quantity' : 20, 'ManufactureDate':'06Oct2021', 'Product Type':'Garments'},\n",
        "         '24':{'Name':'Canned Fish','Price':89, 'Quantity' : 120, 'ManufactureDate':'13Sep2021','Product Type':'Groceries'},\n",
        "         '25':{'Name':'SuitCase','Price':7800, 'Quantity' : 25, 'ManufactureDate':'21May2021', 'Product Type':'Fashion'},\n",
        "         '26':{'Name':'Hair Oil','Price':69, 'Quantity' : 90, 'ManufactureDate':'30May2021', 'Product Type':'SkinCare'},\n",
        "         '27':{'Name':'Moisturiser Cream','Price':179, 'Quantity' : 90, 'ManufactureDate':'11April2021', 'Product Type':'SkinCare'},\n",
        "         '28':{'Name':'Coconut Oil','Price':120, 'Quantity' : 130, 'ManufactureDate':'26une2021', 'Product Type':'SkinCare'},\n",
        "         '29':{'Name':'Purse','Price':800, 'Quantity' : 67, 'ManufactureDate':'27Sep2021', 'Product Type':'Fashion'},\n",
        "         '30':{'Name':'KitKat','Price':30, 'Quantity' : 250, 'ManufactureDate':'21Sep2021', 'Product Type':'Groceries'}}\n",
        "         "
      ],
      "execution_count": 47,
      "outputs": []
    },
    {
      "cell_type": "code",
      "metadata": {
        "colab": {
          "base_uri": "https://localhost:8080/"
        },
        "id": "bBrLHAxQTkpg",
        "outputId": "1512db04-b6cf-4fab-b9aa-b7e8cd32a6c9"
      },
      "source": [
        "items"
      ],
      "execution_count": 48,
      "outputs": [
        {
          "output_type": "execute_result",
          "data": {
            "text/plain": [
              "{'1': {'ManufactureDate': '08Sep2021',\n",
              "  'Name': 'Lays',\n",
              "  'Price': 10,\n",
              "  'Product Type': 'Groceries',\n",
              "  'Quantity': 100},\n",
              " '10': {'ManufactureDate': '19Aug2021',\n",
              "  'Name': 'Jeans Male',\n",
              "  'Price': 599,\n",
              "  'Product Type': 'Garments',\n",
              "  'Quantity': 20},\n",
              " '11': {'ManufactureDate': '23Sep2021',\n",
              "  'Name': 'Jeans Female',\n",
              "  'Price': 499,\n",
              "  'Product Type': 'Garments',\n",
              "  'Quantity': 20},\n",
              " '12': {'ManufactureDate': '17Sep2021',\n",
              "  'Name': 'Badminton',\n",
              "  'Price': 1249,\n",
              "  'Product Type': 'Sports',\n",
              "  'Quantity': 15},\n",
              " '13': {'ManufactureDate': '07Oct2021',\n",
              "  'Name': 'Tennis Ball',\n",
              "  'Price': 99,\n",
              "  'Product Type': 'Sports',\n",
              "  'Quantity': 60},\n",
              " '14': {'ManufactureDate': '11Oct2021',\n",
              "  'Name': 'Butter',\n",
              "  'Price': 48,\n",
              "  'Product Type': 'Groceries',\n",
              "  'Quantity': 250},\n",
              " '15': {'ManufactureDate': '15July2021',\n",
              "  'Name': 'Watch',\n",
              "  'Price': 9000,\n",
              "  'Product Type': 'Electronics',\n",
              "  'Quantity': 50},\n",
              " '16': {'ManufactureDate': '19July2021',\n",
              "  'Name': 'Clock',\n",
              "  'Price': 250,\n",
              "  'Product Type': 'Electronics',\n",
              "  'Quantity': 50},\n",
              " '17': {'ManufactureDate': '22June2021',\n",
              "  'Name': 'Curtains',\n",
              "  'Price': 300,\n",
              "  'Product Type': 'Home Accessories',\n",
              "  'Quantity': 150},\n",
              " '18': {'ManufactureDate': '03June2021',\n",
              "  'Name': 'Socks',\n",
              "  'Price': 60,\n",
              "  'Product Type': 'Garments',\n",
              "  'Quantity': 450},\n",
              " '19': {'ManufactureDate': '20May2021',\n",
              "  'Name': 'Cricket Bat',\n",
              "  'Price': 1800,\n",
              "  'Product Type': 'Sports',\n",
              "  'Quantity': 40},\n",
              " '2': {'ManufactureDate': '13Sep2021',\n",
              "  'Name': 'DairyMilk',\n",
              "  'Price': 55,\n",
              "  'Product Type': 'Groceries',\n",
              "  'Quantity': 250},\n",
              " '20': {'ManufactureDate': '24May2021',\n",
              "  'Name': 'Monopoly Board Game',\n",
              "  'Price': 349,\n",
              "  'Product Type': 'Sports',\n",
              "  'Quantity': 50},\n",
              " '21': {'ManufactureDate': '08June2021',\n",
              "  'Name': 'Samsung Earphones',\n",
              "  'Price': 500,\n",
              "  'Product Type': 'Electronics',\n",
              "  'Quantity': 70},\n",
              " '22': {'ManufactureDate': '06Sep2021',\n",
              "  'Name': 'Airpods',\n",
              "  'Price': 55,\n",
              "  'Product Type': 'Electronics',\n",
              "  'Quantity': 2500},\n",
              " '23': {'ManufactureDate': '06Oct2021',\n",
              "  'Name': 'Trousers',\n",
              "  'Price': 320,\n",
              "  'Product Type': 'Garments',\n",
              "  'Quantity': 20},\n",
              " '24': {'ManufactureDate': '13Sep2021',\n",
              "  'Name': 'Canned Fish',\n",
              "  'Price': 89,\n",
              "  'Product Type': 'Groceries',\n",
              "  'Quantity': 120},\n",
              " '25': {'ManufactureDate': '21May2021',\n",
              "  'Name': 'SuitCase',\n",
              "  'Price': 7800,\n",
              "  'Product Type': 'Fashion',\n",
              "  'Quantity': 25},\n",
              " '26': {'ManufactureDate': '30May2021',\n",
              "  'Name': 'Hair Oil',\n",
              "  'Price': 69,\n",
              "  'Product Type': 'SkinCare',\n",
              "  'Quantity': 90},\n",
              " '27': {'ManufactureDate': '11April2021',\n",
              "  'Name': 'Moisturiser Cream',\n",
              "  'Price': 179,\n",
              "  'Product Type': 'SkinCare',\n",
              "  'Quantity': 90},\n",
              " '28': {'ManufactureDate': '26une2021',\n",
              "  'Name': 'Coconut Oil',\n",
              "  'Price': 120,\n",
              "  'Product Type': 'SkinCare',\n",
              "  'Quantity': 130},\n",
              " '29': {'ManufactureDate': '27Sep2021',\n",
              "  'Name': 'Purse',\n",
              "  'Price': 800,\n",
              "  'Product Type': 'Fashion',\n",
              "  'Quantity': 67},\n",
              " '3': {'ManufactureDate': '02Oct2021',\n",
              "  'Name': 'Milk',\n",
              "  'Price': 30,\n",
              "  'Product Type': 'Groceries',\n",
              "  'Quantity': 500},\n",
              " '30': {'ManufactureDate': '21Sep2021',\n",
              "  'Name': 'KitKat',\n",
              "  'Price': 30,\n",
              "  'Product Type': 'Groceries',\n",
              "  'Quantity': 250},\n",
              " '4': {'ManufactureDate': '10Aug2021',\n",
              "  'Name': 'Eggs',\n",
              "  'Price': 150,\n",
              "  'Product Type': 'Groceries',\n",
              "  'Quantity': 1500},\n",
              " '5': {'ManufactureDate': '05Sep2021',\n",
              "  'Name': 'Tin Corn',\n",
              "  'Price': 90,\n",
              "  'Product Type': 'Groceries',\n",
              "  'Quantity': 100},\n",
              " '6': {'ManufactureDate': '08Aug2021',\n",
              "  'Name': 'Mouse',\n",
              "  'Price': 350,\n",
              "  'Product Type': 'Electronics',\n",
              "  'Quantity': 35},\n",
              " '7': {'ManufactureDate': '18Oct2021',\n",
              "  'Name': 'Britannia Cake',\n",
              "  'Price': 20,\n",
              "  'Product Type': 'Groceries',\n",
              "  'Quantity': 400},\n",
              " '8': {'ManufactureDate': '29Sep2021',\n",
              "  'Name': 'Green Peas',\n",
              "  'Price': 180,\n",
              "  'Product Type': 'Groceries',\n",
              "  'Quantity': 80},\n",
              " '9': {'ManufactureDate': '12Aug2021',\n",
              "  'Name': 'Keyboard',\n",
              "  'Price': 300,\n",
              "  'Product Type': 'Electronics',\n",
              "  'Quantity': 40}}"
            ]
          },
          "metadata": {},
          "execution_count": 48
        }
      ]
    },
    {
      "cell_type": "code",
      "metadata": {
        "id": "heCAyOXmpJ6T"
      },
      "source": [
        "import json"
      ],
      "execution_count": 49,
      "outputs": []
    },
    {
      "cell_type": "markdown",
      "metadata": {
        "id": "sxbOAbmzrpvK"
      },
      "source": [
        "We here convert the dictionary to string via json and then performs different inventory management operation on it."
      ]
    },
    {
      "cell_type": "code",
      "metadata": {
        "id": "f-XhLZ-hpSPK"
      },
      "source": [
        "js = json.dumps(items)"
      ],
      "execution_count": 50,
      "outputs": []
    },
    {
      "cell_type": "code",
      "metadata": {
        "colab": {
          "base_uri": "https://localhost:8080/",
          "height": 137
        },
        "id": "a_6QWoDZpYbY",
        "outputId": "458c3327-98d1-49da-e1aa-776eca2e25cb"
      },
      "source": [
        "js"
      ],
      "execution_count": 51,
      "outputs": [
        {
          "output_type": "execute_result",
          "data": {
            "application/vnd.google.colaboratory.intrinsic+json": {
              "type": "string"
            },
            "text/plain": [
              "'{\"1\": {\"Name\": \"Lays\", \"Price\": 10, \"Quantity\": 100, \"ManufactureDate\": \"08Sep2021\", \"Product Type\": \"Groceries\"}, \"2\": {\"Name\": \"DairyMilk\", \"Price\": 55, \"Quantity\": 250, \"ManufactureDate\": \"13Sep2021\", \"Product Type\": \"Groceries\"}, \"3\": {\"Name\": \"Milk\", \"Price\": 30, \"Quantity\": 500, \"ManufactureDate\": \"02Oct2021\", \"Product Type\": \"Groceries\"}, \"4\": {\"Name\": \"Eggs\", \"Price\": 150, \"Quantity\": 1500, \"ManufactureDate\": \"10Aug2021\", \"Product Type\": \"Groceries\"}, \"5\": {\"Name\": \"Tin Corn\", \"Price\": 90, \"Quantity\": 100, \"ManufactureDate\": \"05Sep2021\", \"Product Type\": \"Groceries\"}, \"6\": {\"Name\": \"Mouse\", \"Price\": 350, \"Quantity\": 35, \"ManufactureDate\": \"08Aug2021\", \"Product Type\": \"Electronics\"}, \"7\": {\"Name\": \"Britannia Cake\", \"Price\": 20, \"Quantity\": 400, \"ManufactureDate\": \"18Oct2021\", \"Product Type\": \"Groceries\"}, \"8\": {\"Name\": \"Green Peas\", \"Price\": 180, \"Quantity\": 80, \"ManufactureDate\": \"29Sep2021\", \"Product Type\": \"Groceries\"}, \"9\": {\"Name\": \"Keyboard\", \"Price\": 300, \"Quantity\": 40, \"ManufactureDate\": \"12Aug2021\", \"Product Type\": \"Electronics\"}, \"10\": {\"Name\": \"Jeans Male\", \"Price\": 599, \"Quantity\": 20, \"ManufactureDate\": \"19Aug2021\", \"Product Type\": \"Garments\"}, \"11\": {\"Name\": \"Jeans Female\", \"Price\": 499, \"Quantity\": 20, \"ManufactureDate\": \"23Sep2021\", \"Product Type\": \"Garments\"}, \"12\": {\"Name\": \"Badminton\", \"Price\": 1249, \"Quantity\": 15, \"ManufactureDate\": \"17Sep2021\", \"Product Type\": \"Sports\"}, \"13\": {\"Name\": \"Tennis Ball\", \"Price\": 99, \"Quantity\": 60, \"ManufactureDate\": \"07Oct2021\", \"Product Type\": \"Sports\"}, \"14\": {\"Name\": \"Butter\", \"Price\": 48, \"Quantity\": 250, \"ManufactureDate\": \"11Oct2021\", \"Product Type\": \"Groceries\"}, \"15\": {\"Name\": \"Watch\", \"Price\": 9000, \"Quantity\": 50, \"ManufactureDate\": \"15July2021\", \"Product Type\": \"Electronics\"}, \"16\": {\"Name\": \"Clock\", \"Price\": 250, \"Quantity\": 50, \"ManufactureDate\": \"19July2021\", \"Product Type\": \"Electronics\"}, \"17\": {\"Name\": \"Curtains\", \"Price\": 300, \"Quantity\": 150, \"ManufactureDate\": \"22June2021\", \"Product Type\": \"Home Accessories\"}, \"18\": {\"Name\": \"Socks\", \"Price\": 60, \"Quantity\": 450, \"ManufactureDate\": \"03June2021\", \"Product Type\": \"Garments\"}, \"19\": {\"Name\": \"Cricket Bat\", \"Price\": 1800, \"Quantity\": 40, \"ManufactureDate\": \"20May2021\", \"Product Type\": \"Sports\"}, \"20\": {\"Name\": \"Monopoly Board Game\", \"Price\": 349, \"Quantity\": 50, \"ManufactureDate\": \"24May2021\", \"Product Type\": \"Sports\"}, \"21\": {\"Name\": \"Samsung Earphones\", \"Price\": 500, \"Quantity\": 70, \"ManufactureDate\": \"08June2021\", \"Product Type\": \"Electronics\"}, \"22\": {\"Name\": \"Airpods\", \"Price\": 55, \"Quantity\": 2500, \"ManufactureDate\": \"06Sep2021\", \"Product Type\": \"Electronics\"}, \"23\": {\"Name\": \"Trousers\", \"Price\": 320, \"Quantity\": 20, \"ManufactureDate\": \"06Oct2021\", \"Product Type\": \"Garments\"}, \"24\": {\"Name\": \"Canned Fish\", \"Price\": 89, \"Quantity\": 120, \"ManufactureDate\": \"13Sep2021\", \"Product Type\": \"Groceries\"}, \"25\": {\"Name\": \"SuitCase\", \"Price\": 7800, \"Quantity\": 25, \"ManufactureDate\": \"21May2021\", \"Product Type\": \"Fashion\"}, \"26\": {\"Name\": \"Hair Oil\", \"Price\": 69, \"Quantity\": 90, \"ManufactureDate\": \"30May2021\", \"Product Type\": \"SkinCare\"}, \"27\": {\"Name\": \"Moisturiser Cream\", \"Price\": 179, \"Quantity\": 90, \"ManufactureDate\": \"11April2021\", \"Product Type\": \"SkinCare\"}, \"28\": {\"Name\": \"Coconut Oil\", \"Price\": 120, \"Quantity\": 130, \"ManufactureDate\": \"26une2021\", \"Product Type\": \"SkinCare\"}, \"29\": {\"Name\": \"Purse\", \"Price\": 800, \"Quantity\": 67, \"ManufactureDate\": \"27Sep2021\", \"Product Type\": \"Fashion\"}, \"30\": {\"Name\": \"KitKat\", \"Price\": 30, \"Quantity\": 250, \"ManufactureDate\": \"21Sep2021\", \"Product Type\": \"Groceries\"}}'"
            ]
          },
          "metadata": {},
          "execution_count": 51
        }
      ]
    },
    {
      "cell_type": "markdown",
      "metadata": {
        "id": "Iht4nrQrqolx"
      },
      "source": [
        "Operations on Purchase\n"
      ]
    },
    {
      "cell_type": "code",
      "metadata": {
        "id": "SCVzSScjq5M5"
      },
      "source": [
        "\n",
        "import json\n",
        "\n",
        "fd = open(\"items.json\",'r')\n",
        "r = fd.read()\n",
        "fd.close()\n",
        "\n",
        "items = json.loads(r)"
      ],
      "execution_count": 52,
      "outputs": []
    },
    {
      "cell_type": "code",
      "metadata": {
        "colab": {
          "base_uri": "https://localhost:8080/"
        },
        "id": "3gjG-jnDPMjH",
        "outputId": "173160f9-dd27-475d-fc75-d9df98f3bfe1"
      },
      "source": [
        "\n",
        "UserInput_Product = str(input(\"Enter the Product_Id: \"))\n",
        "Quantity_Input = int(input(\"Enter the quantity: \"))\n",
        "\n",
        "print(\"Product: \", items[UserInput_Product]['Name'])\n",
        "print(\"Price: \", items[UserInput_Product]['Price'])\n",
        "print(\"Billing Amount: \", items[UserInput_Product]['Price'] * Quantity_Input)\n",
        "print(\"Manufacture Date: \" , items[UserInput_Product]['ManufactureDate'])\n",
        "print(\"Category: \", items[UserInput_Product]['Product Type']) \n",
        "\n",
        "\n",
        "\n",
        "\n",
        "items[UserInput_Product]['Quantity'] = items[UserInput_Product]['Quantity'] - Quantity_Input"
      ],
      "execution_count": 57,
      "outputs": [
        {
          "output_type": "stream",
          "name": "stdout",
          "text": [
            "Enter the Product_Id: 15\n",
            "Enter the quantity: 7\n",
            "Product:  Watch\n",
            "Price:  9000\n",
            "Billing Amount:  63000\n",
            "Manufacture Date:  15July2021\n",
            "Category:  Electronics\n"
          ]
        }
      ]
    },
    {
      "cell_type": "code",
      "metadata": {
        "colab": {
          "base_uri": "https://localhost:8080/",
          "height": 35
        },
        "id": "aDVW--tHtE-R",
        "outputId": "8481e82a-3c7c-4518-e2ad-300ed4fc8021"
      },
      "source": [
        "import time\n",
        "\n",
        "\n",
        "time.ctime()"
      ],
      "execution_count": 64,
      "outputs": [
        {
          "output_type": "execute_result",
          "data": {
            "application/vnd.google.colaboratory.intrinsic+json": {
              "type": "string"
            },
            "text/plain": [
              "'Mon Sep  6 15:23:05 2021'"
            ]
          },
          "metadata": {},
          "execution_count": 64
        }
      ]
    },
    {
      "cell_type": "markdown",
      "metadata": {
        "id": "DtP1ywKzoITH"
      },
      "source": [
        "Updating Inventory after Purchase"
      ]
    },
    {
      "cell_type": "code",
      "metadata": {
        "id": "1cx07NzMoHYz"
      },
      "source": [
        "js = json.dumps(items)\n",
        "\n",
        "fd = open(\"items.json\",'w')\n",
        "fd.write(js)\n",
        "fd.close()"
      ],
      "execution_count": 58,
      "outputs": []
    },
    {
      "cell_type": "markdown",
      "metadata": {
        "id": "PUlLsUjAofKN"
      },
      "source": [
        "Sales | Showing how much sales  is generated"
      ]
    },
    {
      "cell_type": "code",
      "metadata": {
        "colab": {
          "base_uri": "https://localhost:8080/"
        },
        "id": "obnrUjucoejl",
        "outputId": "8b1ed1ed-39b1-47a6-8d70-2f72ba803074"
      },
      "source": [
        "{'Product_ID' : UserInput_Product, 'Quantity' : Quantity_Input, 'amount': items[UserInput_Product]['Price'] * Quantity_Input}"
      ],
      "execution_count": 59,
      "outputs": [
        {
          "output_type": "execute_result",
          "data": {
            "text/plain": [
              "{'Product_ID': '15', 'Quantity': 7, 'amount': 63000}"
            ]
          },
          "metadata": {},
          "execution_count": 59
        }
      ]
    },
    {
      "cell_type": "code",
      "metadata": {
        "id": "B6ebLEaCpEga"
      },
      "source": [
        "sales = {1 : {'Product_ID' : UserInput_Product, 'Quantity' : Quantity_Input, 'amount': items[UserInput_Product]['Price'] * Quantity_Input},\n",
        "         2 : {'Product_ID' : UserInput_Product, 'Quantity' : Quantity_Input, 'amount': items[UserInput_Product]['Price'] * Quantity_Input},\n",
        "         3 : {'Product_ID' : UserInput_Product, 'Quantity' : Quantity_Input, 'amount': items[UserInput_Product]['Price'] * Quantity_Input}}"
      ],
      "execution_count": 60,
      "outputs": []
    },
    {
      "cell_type": "code",
      "metadata": {
        "id": "6XRErzUHqIiJ"
      },
      "source": [
        "sale = json.dumps(sales)"
      ],
      "execution_count": 61,
      "outputs": []
    },
    {
      "cell_type": "code",
      "metadata": {
        "id": "7SAkhavQqVe8"
      },
      "source": [
        "sale = json.dumps(sales)\n",
        "\n",
        "fd = open(\"items.json\",'w')\n",
        "fd.write(sale)\n",
        "fd.close()"
      ],
      "execution_count": 63,
      "outputs": []
    },
    {
      "cell_type": "markdown",
      "metadata": {
        "id": "Tzcc2tOvsBzc"
      },
      "source": [
        ""
      ]
    }
  ]
}